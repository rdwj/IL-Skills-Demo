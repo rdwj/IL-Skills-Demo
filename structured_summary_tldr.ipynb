{
 "cells": [
  {
   "cell_type": "code",
   "execution_count": 42,
   "metadata": {},
   "outputs": [
    {
     "name": "stdout",
     "output_type": "stream",
     "text": [
      "The autoreload extension is already loaded. To reload it, use:\n",
      "  %reload_ext autoreload\n"
     ]
    }
   ],
   "source": [
    "%load_ext autoreload\n",
    "%autoreload 2"
   ]
  },
  {
   "cell_type": "markdown",
   "metadata": {},
   "source": [
    "## 🧾 Use Case 3: Structured Summary from Conversations\n",
    "\n",
    "In many enterprise workflows, unstructured conversations—like meeting transcripts, support calls, or financial briefings—contain valuable insights that need to be distilled into structured formats for downstream processing.\n",
    "\n",
    "In this use case, we aim to extract **structured summaries** from raw conversational transcripts. Specifically, we want the model to extract:\n",
    "\n",
    "- A concise **summary** of the conversation\n",
    "- Relevant **keywords**\n",
    "- **Named entities** such as people, organizations, and dates\n",
    "- The **sentiment** of the discussion\n",
    "\n",
    "\n",
    "### Why is this useful?\n",
    "\n",
    "Rather than just generating freeform text, this task helps transform unstructured inputs into **machine-readable structured outputs**, making it suitable for:\n",
    "\n",
    "- Reporting dashboards  \n",
    "- Automated indexing and retrieval  \n",
    "- Analytics pipelines  \n",
    "- Compliance and auditing tools\n",
    "\n",
    "### PDF Data \n",
    "\n",
    "<img src=\"assets/financial_transcripts.png\">\n"
   ]
  },
  {
   "cell_type": "markdown",
   "metadata": {},
   "source": [
    "## 🧑‍🏫 Step 1: Set Up the Teacher Model\n",
    "\n",
    "This demo expects an openai compatible endpoint. You can use your favorite inference server like vLLM, HFInferenceServer, LlamaStack, etc. For more details on how to setup an inference server using vLLM, please refer to the [README](README.md).\n",
    "\n",
    "For this demo we will use Llama-3.3-70B-Instruct as our teacher model.\n",
    "\n",
    "#### Let's test the connection"
   ]
  },
  {
   "cell_type": "code",
   "execution_count": 43,
   "metadata": {},
   "outputs": [
    {
     "name": "stdout",
     "output_type": "stream",
     "text": [
      "Connection successful! meta-llama/Llama-3.3-70B-Instruct: Hello. How can I help you today?\n"
     ]
    }
   ],
   "source": [
    "from openai import OpenAI\n",
    "\n",
    "openai_api_key = \"EMPTY\"  # replace with your inference server api key\n",
    "openai_api_base = (\n",
    "    \"http://150.239.209.43:8008/v1\"  # replace with your inference server endpoint\n",
    ")\n",
    "\n",
    "\n",
    "client = OpenAI(\n",
    "    api_key=openai_api_key,\n",
    "    base_url=openai_api_base,\n",
    ")\n",
    "\n",
    "models = client.models.list()\n",
    "teacher_model = models.data[0].id\n",
    "\n",
    "# Test the connection with a simple completion\n",
    "response = client.chat.completions.create(\n",
    "    model=teacher_model,\n",
    "    messages=[{\"role\": \"user\", \"content\": \"Hello!\"}],\n",
    "    temperature=0.0,\n",
    "    max_tokens=10,\n",
    ")\n",
    "completion = response.choices[0].message.content\n",
    "\n",
    "print(f\"Connection successful! {teacher_model}: {completion}\")"
   ]
  },
  {
   "cell_type": "code",
   "execution_count": 44,
   "metadata": {},
   "outputs": [],
   "source": [
    "from datasets import load_dataset\n",
    "\n",
    "seed_data = load_dataset(\n",
    "    \"json\", data_files=\"seed_data/financial_call_transcripts.jsonl\", split=\"train\"\n",
    ")"
   ]
  },
  {
   "cell_type": "code",
   "execution_count": 45,
   "metadata": {},
   "outputs": [
    {
     "data": {
      "text/plain": [
       "{'conversation_id': 'c47a92e006b54d014a79b447528c55a7',\n",
       " 'pdf_path': 'seed_data/financial_call_transcripts/c47a92e006b54d014a79b447528c55a7.pdf'}"
      ]
     },
     "execution_count": 45,
     "metadata": {},
     "output_type": "execute_result"
    }
   ],
   "source": [
    "seed_data[0]"
   ]
  },
  {
   "cell_type": "markdown",
   "metadata": {},
   "source": [
    "## Setting up the pipeline\n",
    "\n",
    "\n",
    "In this section, we walk through a pipeline designed to process financial call transcripts (in PDF format) and extract structured insights using LLM-powered blocks. This is a classic example of transforming unstructured text into structured JSON for downstream analysis.\n",
    "\n",
    "\n",
    "\n",
    "This YAML defines a flow that reads PDF transcripts, parses them into text, and then uses LLMs to extract:\n",
    "* ✅ Summary of the transcript\n",
    "* ✅ Key topics or keywords\n",
    "* ✅ Mentioned named entities (people, organizations, locations, etc.)\n",
    "* ✅ Overall sentiment of the call\n",
    "\n",
    "All of these are combined into a final structured json_output.\n",
    "\n",
    "\n",
    "```mermaid \n",
    "graph LR\n",
    "    A[PDF Transcript] --> B[parse_transcript<br/>DoclingParsePDF]\n",
    "    B --> C[conversation]\n",
    "    C --> D[add_question<br/>AddStaticValue]\n",
    "    D --> E[gen_summary<br/>LLMBlock]\n",
    "    E --> F[gen_keywords<br/>LLMBlock]\n",
    "    F --> G[gen_named_entities<br/>LLMBlock]\n",
    "    G --> H[gen_sentiment<br/>LLMBlock]\n",
    "\n",
    "    H --> I[format_json<br/>JSONFormat]\n",
    "    I --> J[json_output]\n",
    "```\n",
    "\n",
    "\n",
    "```yaml\n",
    "version: \"1.0\"\n",
    "blocks:\n",
    "  - name: parse_transcript\n",
    "    type: DoclingParsePDF\n",
    "    config:\n",
    "      pdf_path_column: pdf_path\n",
    "      output_column: conversation\n",
    "\n",
    "  - name: add_question\n",
    "    type: AddStaticValue\n",
    "    config:\n",
    "      column_name: question\n",
    "      static_value: >\n",
    "        Extract summary, keywords, named entities, and sentiment from the transcript and return in JSON format.\n",
    "\n",
    "  - name: gen_summary\n",
    "    type: LLMBlock\n",
    "    config:\n",
    "      config_path: ../prompts/summary.yaml\n",
    "      output_cols:\n",
    "        - summary\n",
    "\n",
    "  - name: gen_keywords\n",
    "    type: LLMBlock\n",
    "    config:\n",
    "      config_path: ../prompts/keywords.yaml\n",
    "      output_cols:\n",
    "        - keywords\n",
    "\n",
    "  - name: gen_named_entities\n",
    "    type: LLMBlock\n",
    "    config:\n",
    "      config_path: ../prompts/named_entities.yaml\n",
    "      output_cols:\n",
    "        - named_entities\n",
    "\n",
    "  - name: gen_sentiment\n",
    "    type: LLMBlock\n",
    "    config:\n",
    "      config_path: ../prompts/sentiment.yaml\n",
    "      output_cols:\n",
    "        - sentiment\n",
    "\n",
    "  - name: format_json\n",
    "    type: JSONFormat\n",
    "    config:\n",
    "      output_column: json_output\n",
    "    drop_columns:\n",
    "      - summary\n",
    "      - keywords\n",
    "      - named_entities\n",
    "      - sentiment\n",
    "```"
   ]
  },
  {
   "cell_type": "code",
   "execution_count": 46,
   "metadata": {},
   "outputs": [],
   "source": [
    "import os\n",
    "from instructlab.sdg.pipeline import Pipeline, PipelineContext\n",
    "from blocks import *\n",
    "\n",
    "ctx = PipelineContext(\n",
    "    client=client, model_family=\"llama\", model_id=teacher_model, batch_size=0\n",
    ")\n",
    "skills_pipe = Pipeline.from_file(\n",
    "    ctx, os.path.join(os.getcwd(), \"flows/grounded_summary_extraction_tldr.yaml\")\n",
    ")"
   ]
  },
  {
   "cell_type": "code",
   "execution_count": 47,
   "metadata": {},
   "outputs": [
    {
     "name": "stderr",
     "output_type": "stream",
     "text": [
      "Map: 100%|██████████| 10/10 [00:00<00:00, 936.42 examples/s]\n"
     ]
    }
   ],
   "source": [
    "seed_data = seed_data.select(range(10)) # note: this is just for demo purposes, in practice you can use the entire dataset\n",
    "generated_data = skills_pipe.generate(seed_data)"
   ]
  },
  {
   "cell_type": "code",
   "execution_count": 51,
   "metadata": {},
   "outputs": [
    {
     "data": {
      "text/html": [
       "<pre style=\"white-space:pre;overflow-x:auto;line-height:normal;font-family:Menlo,'DejaVu Sans Mono',consolas,'Courier New',monospace\">╭───────────────────────────────────────────── 📊 Extracted Summary ──────────────────────────────────────────────╮\n",
       "│ <span style=\"color: #000000; text-decoration-color: #000000; background-color: #f8f8f8\">{</span><span style=\"background-color: #f8f8f8\">                                                                                                              </span> │\n",
       "│ <span style=\"color: #bbbbbb; text-decoration-color: #bbbbbb; background-color: #f8f8f8\">  </span><span style=\"color: #008000; text-decoration-color: #008000; background-color: #f8f8f8; font-weight: bold\">\"summary\"</span><span style=\"color: #000000; text-decoration-color: #000000; background-color: #f8f8f8\">:</span><span style=\"color: #bbbbbb; text-decoration-color: #bbbbbb; background-color: #f8f8f8\"> </span><span style=\"color: #ba2121; text-decoration-color: #ba2121; background-color: #f8f8f8\">\"The company discussed its tax rate, noting that equity income is reported net of tax, and mention</span> │\n",
       "│ <span style=\"color: #bbbbbb; text-decoration-color: #bbbbbb; background-color: #f8f8f8\">  </span><span style=\"color: #008000; text-decoration-color: #008000; background-color: #f8f8f8; font-weight: bold\">\"tldr\"</span><span style=\"color: #000000; text-decoration-color: #000000; background-color: #f8f8f8\">:</span><span style=\"color: #bbbbbb; text-decoration-color: #bbbbbb; background-color: #f8f8f8\"> </span><span style=\"color: #ba2121; text-decoration-color: #ba2121; background-color: #f8f8f8\">\"The company discusses tax planning initiatives to reduce its tax rate and acknowledges the need for </span> │\n",
       "│ <span style=\"color: #bbbbbb; text-decoration-color: #bbbbbb; background-color: #f8f8f8\">  </span><span style=\"color: #008000; text-decoration-color: #008000; background-color: #f8f8f8; font-weight: bold\">\"keywords\"</span><span style=\"color: #000000; text-decoration-color: #000000; background-color: #f8f8f8\">:</span><span style=\"color: #bbbbbb; text-decoration-color: #bbbbbb; background-color: #f8f8f8\"> </span><span style=\"color: #000000; text-decoration-color: #000000; background-color: #f8f8f8\">[</span><span style=\"background-color: #f8f8f8\">                                                                                                </span> │\n",
       "│ <span style=\"color: #bbbbbb; text-decoration-color: #bbbbbb; background-color: #f8f8f8\">    </span><span style=\"color: #ba2121; text-decoration-color: #ba2121; background-color: #f8f8f8\">\"tax rate\"</span><span style=\"color: #000000; text-decoration-color: #000000; background-color: #f8f8f8\">,</span><span style=\"background-color: #f8f8f8\">                                                                                                </span> │\n",
       "│ <span style=\"color: #bbbbbb; text-decoration-color: #bbbbbb; background-color: #f8f8f8\">    </span><span style=\"color: #ba2121; text-decoration-color: #ba2121; background-color: #f8f8f8\">\"working capital\"</span><span style=\"color: #000000; text-decoration-color: #000000; background-color: #f8f8f8\">,</span><span style=\"background-color: #f8f8f8\">                                                                                         </span> │\n",
       "│ <span style=\"color: #bbbbbb; text-decoration-color: #bbbbbb; background-color: #f8f8f8\">    </span><span style=\"color: #ba2121; text-decoration-color: #ba2121; background-color: #f8f8f8\">\"investment\"</span><span style=\"color: #000000; text-decoration-color: #000000; background-color: #f8f8f8\">,</span><span style=\"background-color: #f8f8f8\">                                                                                              </span> │\n",
       "│ <span style=\"color: #bbbbbb; text-decoration-color: #bbbbbb; background-color: #f8f8f8\">    </span><span style=\"color: #ba2121; text-decoration-color: #ba2121; background-color: #f8f8f8\">\"margin pressure\"</span><span style=\"color: #000000; text-decoration-color: #000000; background-color: #f8f8f8\">,</span><span style=\"background-color: #f8f8f8\">                                                                                         </span> │\n",
       "│ <span style=\"color: #bbbbbb; text-decoration-color: #bbbbbb; background-color: #f8f8f8\">    </span><span style=\"color: #ba2121; text-decoration-color: #ba2121; background-color: #f8f8f8\">\"GM\"</span><span style=\"color: #000000; text-decoration-color: #000000; background-color: #f8f8f8\">,</span><span style=\"background-color: #f8f8f8\">                                                                                                      </span> │\n",
       "│ <span style=\"color: #bbbbbb; text-decoration-color: #bbbbbb; background-color: #f8f8f8\">    </span><span style=\"color: #ba2121; text-decoration-color: #ba2121; background-color: #f8f8f8\">\"competitive environment\"</span><span style=\"color: #000000; text-decoration-color: #000000; background-color: #f8f8f8\">,</span><span style=\"background-color: #f8f8f8\">                                                                                 </span> │\n",
       "│ <span style=\"color: #bbbbbb; text-decoration-color: #bbbbbb; background-color: #f8f8f8\">    </span><span style=\"color: #ba2121; text-decoration-color: #ba2121; background-color: #f8f8f8\">\"tax planning\"</span><span style=\"color: #000000; text-decoration-color: #000000; background-color: #f8f8f8\">,</span><span style=\"background-color: #f8f8f8\">                                                                                            </span> │\n",
       "│ <span style=\"color: #bbbbbb; text-decoration-color: #bbbbbb; background-color: #f8f8f8\">    </span><span style=\"color: #ba2121; text-decoration-color: #ba2121; background-color: #f8f8f8\">\"capital expenditures\"</span><span style=\"color: #000000; text-decoration-color: #000000; background-color: #f8f8f8\">,</span><span style=\"background-color: #f8f8f8\">                                                                                    </span> │\n",
       "│ <span style=\"color: #bbbbbb; text-decoration-color: #bbbbbb; background-color: #f8f8f8\">    </span><span style=\"color: #ba2121; text-decoration-color: #ba2121; background-color: #f8f8f8\">\"Chinese JVs\"</span><span style=\"color: #000000; text-decoration-color: #000000; background-color: #f8f8f8\">,</span><span style=\"background-color: #f8f8f8\">                                                                                             </span> │\n",
       "│ <span style=\"color: #bbbbbb; text-decoration-color: #bbbbbb; background-color: #f8f8f8\">    </span><span style=\"color: #ba2121; text-decoration-color: #ba2121; background-color: #f8f8f8\">\"guidance\"</span><span style=\"background-color: #f8f8f8\">                                                                                                 </span> │\n",
       "│ <span style=\"color: #bbbbbb; text-decoration-color: #bbbbbb; background-color: #f8f8f8\">  </span><span style=\"color: #000000; text-decoration-color: #000000; background-color: #f8f8f8\">],</span><span style=\"background-color: #f8f8f8\">                                                                                                           </span> │\n",
       "│ <span style=\"color: #bbbbbb; text-decoration-color: #bbbbbb; background-color: #f8f8f8\">  </span><span style=\"color: #008000; text-decoration-color: #008000; background-color: #f8f8f8; font-weight: bold\">\"named_entities\"</span><span style=\"color: #000000; text-decoration-color: #000000; background-color: #f8f8f8\">:</span><span style=\"color: #bbbbbb; text-decoration-color: #bbbbbb; background-color: #f8f8f8\"> </span><span style=\"color: #000000; text-decoration-color: #000000; background-color: #f8f8f8\">{</span><span style=\"background-color: #f8f8f8\">                                                                                          </span> │\n",
       "│ <span style=\"color: #bbbbbb; text-decoration-color: #bbbbbb; background-color: #f8f8f8\">    </span><span style=\"color: #008000; text-decoration-color: #008000; background-color: #f8f8f8; font-weight: bold\">\"organizations\"</span><span style=\"color: #000000; text-decoration-color: #000000; background-color: #f8f8f8\">:</span><span style=\"color: #bbbbbb; text-decoration-color: #bbbbbb; background-color: #f8f8f8\"> </span><span style=\"color: #000000; text-decoration-color: #000000; background-color: #f8f8f8\">[</span><span style=\"background-color: #f8f8f8\">                                                                                         </span> │\n",
       "│ <span style=\"color: #bbbbbb; text-decoration-color: #bbbbbb; background-color: #f8f8f8\">      </span><span style=\"color: #ba2121; text-decoration-color: #ba2121; background-color: #f8f8f8\">\"GM\"</span><span style=\"background-color: #f8f8f8\">                                                                                                     </span> │\n",
       "│ <span style=\"color: #bbbbbb; text-decoration-color: #bbbbbb; background-color: #f8f8f8\">    </span><span style=\"color: #000000; text-decoration-color: #000000; background-color: #f8f8f8\">],</span><span style=\"background-color: #f8f8f8\">                                                                                                         </span> │\n",
       "│ <span style=\"color: #bbbbbb; text-decoration-color: #bbbbbb; background-color: #f8f8f8\">    </span><span style=\"color: #008000; text-decoration-color: #008000; background-color: #f8f8f8; font-weight: bold\">\"people\"</span><span style=\"color: #000000; text-decoration-color: #000000; background-color: #f8f8f8\">:</span><span style=\"color: #bbbbbb; text-decoration-color: #bbbbbb; background-color: #f8f8f8\"> </span><span style=\"color: #008000; text-decoration-color: #008000; background-color: #f8f8f8; font-weight: bold\">null</span><span style=\"color: #000000; text-decoration-color: #000000; background-color: #f8f8f8\">,</span><span style=\"background-color: #f8f8f8\">                                                                                            </span> │\n",
       "│ <span style=\"color: #bbbbbb; text-decoration-color: #bbbbbb; background-color: #f8f8f8\">    </span><span style=\"color: #008000; text-decoration-color: #008000; background-color: #f8f8f8; font-weight: bold\">\"locations\"</span><span style=\"color: #000000; text-decoration-color: #000000; background-color: #f8f8f8\">:</span><span style=\"color: #bbbbbb; text-decoration-color: #bbbbbb; background-color: #f8f8f8\"> </span><span style=\"color: #008000; text-decoration-color: #008000; background-color: #f8f8f8; font-weight: bold\">null</span><span style=\"color: #000000; text-decoration-color: #000000; background-color: #f8f8f8\">,</span><span style=\"background-color: #f8f8f8\">                                                                                         </span> │\n",
       "│ <span style=\"color: #bbbbbb; text-decoration-color: #bbbbbb; background-color: #f8f8f8\">    </span><span style=\"color: #008000; text-decoration-color: #008000; background-color: #f8f8f8; font-weight: bold\">\"dates\"</span><span style=\"color: #000000; text-decoration-color: #000000; background-color: #f8f8f8\">:</span><span style=\"color: #bbbbbb; text-decoration-color: #bbbbbb; background-color: #f8f8f8\"> </span><span style=\"color: #008000; text-decoration-color: #008000; background-color: #f8f8f8; font-weight: bold\">null</span><span style=\"background-color: #f8f8f8\">                                                                                              </span> │\n",
       "│ <span style=\"color: #bbbbbb; text-decoration-color: #bbbbbb; background-color: #f8f8f8\">  </span><span style=\"color: #000000; text-decoration-color: #000000; background-color: #f8f8f8\">},</span><span style=\"background-color: #f8f8f8\">                                                                                                           </span> │\n",
       "│ <span style=\"color: #bbbbbb; text-decoration-color: #bbbbbb; background-color: #f8f8f8\">  </span><span style=\"color: #008000; text-decoration-color: #008000; background-color: #f8f8f8; font-weight: bold\">\"sentiment\"</span><span style=\"color: #000000; text-decoration-color: #000000; background-color: #f8f8f8\">:</span><span style=\"color: #bbbbbb; text-decoration-color: #bbbbbb; background-color: #f8f8f8\"> </span><span style=\"color: #ba2121; text-decoration-color: #ba2121; background-color: #f8f8f8\">\"Neutral\"</span><span style=\"color: #000000; text-decoration-color: #000000; background-color: #f8f8f8\">,</span><span style=\"background-color: #f8f8f8\">                                                                                      </span> │\n",
       "│ <span style=\"color: #bbbbbb; text-decoration-color: #bbbbbb; background-color: #f8f8f8\">  </span><span style=\"color: #008000; text-decoration-color: #008000; background-color: #f8f8f8; font-weight: bold\">\"seo\"</span><span style=\"color: #000000; text-decoration-color: #000000; background-color: #f8f8f8\">:</span><span style=\"color: #bbbbbb; text-decoration-color: #bbbbbb; background-color: #f8f8f8\"> </span><span style=\"color: #000000; text-decoration-color: #000000; background-color: #f8f8f8\">{</span><span style=\"background-color: #f8f8f8\">                                                                                                     </span> │\n",
       "│ <span style=\"color: #bbbbbb; text-decoration-color: #bbbbbb; background-color: #f8f8f8\">    </span><span style=\"color: #008000; text-decoration-color: #008000; background-color: #f8f8f8; font-weight: bold\">\"slug\"</span><span style=\"color: #000000; text-decoration-color: #000000; background-color: #f8f8f8\">:</span><span style=\"color: #bbbbbb; text-decoration-color: #bbbbbb; background-color: #f8f8f8\"> </span><span style=\"color: #ba2121; text-decoration-color: #ba2121; background-color: #f8f8f8\">\"Company discusses tax rate and investment plans amidst competitive environment\"</span><span style=\"color: #000000; text-decoration-color: #000000; background-color: #f8f8f8\">,</span><span style=\"background-color: #f8f8f8\">                  </span> │\n",
       "│ <span style=\"color: #bbbbbb; text-decoration-color: #bbbbbb; background-color: #f8f8f8\">    </span><span style=\"color: #008000; text-decoration-color: #008000; background-color: #f8f8f8; font-weight: bold\">\"search_result_string\"</span><span style=\"color: #000000; text-decoration-color: #000000; background-color: #f8f8f8\">:</span><span style=\"color: #bbbbbb; text-decoration-color: #bbbbbb; background-color: #f8f8f8\"> </span><span style=\"color: #ba2121; text-decoration-color: #ba2121; background-color: #f8f8f8\">\"financial report tax rate reduction investment plans margin pressure competitive l</span> │\n",
       "│ <span style=\"color: #bbbbbb; text-decoration-color: #bbbbbb; background-color: #f8f8f8\">  </span><span style=\"color: #000000; text-decoration-color: #000000; background-color: #f8f8f8\">},</span><span style=\"background-color: #f8f8f8\">                                                                                                           </span> │\n",
       "│ <span style=\"color: #bbbbbb; text-decoration-color: #bbbbbb; background-color: #f8f8f8\">  </span><span style=\"color: #008000; text-decoration-color: #008000; background-color: #f8f8f8; font-weight: bold\">\"summary_es\"</span><span style=\"color: #000000; text-decoration-color: #000000; background-color: #f8f8f8\">:</span><span style=\"color: #bbbbbb; text-decoration-color: #bbbbbb; background-color: #f8f8f8\"> </span><span style=\"color: #ba2121; text-decoration-color: #ba2121; background-color: #f8f8f8\">\"La empresa discuti\\u00f3 su tasa impositiva, se\\u00f1alando que los ingresos por acciones se i</span> │\n",
       "│ <span style=\"color: #000000; text-decoration-color: #000000; background-color: #f8f8f8\">}</span><span style=\"background-color: #f8f8f8\">                                                                                                              </span> │\n",
       "╰─────────────────────────────────────────────────────────────────────────────────────────────────────────────────╯\n",
       "</pre>\n"
      ],
      "text/plain": [
       "╭───────────────────────────────────────────── 📊 Extracted Summary ──────────────────────────────────────────────╮\n",
       "│ \u001b[38;2;0;0;0;48;2;248;248;248m{\u001b[0m\u001b[48;2;248;248;248m                                                                                                              \u001b[0m │\n",
       "│ \u001b[38;2;187;187;187;48;2;248;248;248m  \u001b[0m\u001b[1;38;2;0;128;0;48;2;248;248;248m\"summary\"\u001b[0m\u001b[38;2;0;0;0;48;2;248;248;248m:\u001b[0m\u001b[38;2;187;187;187;48;2;248;248;248m \u001b[0m\u001b[38;2;186;33;33;48;2;248;248;248m\"The company discussed its tax rate, noting that equity income is reported net of tax, and mention\u001b[0m │\n",
       "│ \u001b[38;2;187;187;187;48;2;248;248;248m  \u001b[0m\u001b[1;38;2;0;128;0;48;2;248;248;248m\"tldr\"\u001b[0m\u001b[38;2;0;0;0;48;2;248;248;248m:\u001b[0m\u001b[38;2;187;187;187;48;2;248;248;248m \u001b[0m\u001b[38;2;186;33;33;48;2;248;248;248m\"The company discusses tax planning initiatives to reduce its tax rate and acknowledges the need for \u001b[0m │\n",
       "│ \u001b[38;2;187;187;187;48;2;248;248;248m  \u001b[0m\u001b[1;38;2;0;128;0;48;2;248;248;248m\"keywords\"\u001b[0m\u001b[38;2;0;0;0;48;2;248;248;248m:\u001b[0m\u001b[38;2;187;187;187;48;2;248;248;248m \u001b[0m\u001b[38;2;0;0;0;48;2;248;248;248m[\u001b[0m\u001b[48;2;248;248;248m                                                                                                \u001b[0m │\n",
       "│ \u001b[38;2;187;187;187;48;2;248;248;248m    \u001b[0m\u001b[38;2;186;33;33;48;2;248;248;248m\"tax rate\"\u001b[0m\u001b[38;2;0;0;0;48;2;248;248;248m,\u001b[0m\u001b[48;2;248;248;248m                                                                                                \u001b[0m │\n",
       "│ \u001b[38;2;187;187;187;48;2;248;248;248m    \u001b[0m\u001b[38;2;186;33;33;48;2;248;248;248m\"working capital\"\u001b[0m\u001b[38;2;0;0;0;48;2;248;248;248m,\u001b[0m\u001b[48;2;248;248;248m                                                                                         \u001b[0m │\n",
       "│ \u001b[38;2;187;187;187;48;2;248;248;248m    \u001b[0m\u001b[38;2;186;33;33;48;2;248;248;248m\"investment\"\u001b[0m\u001b[38;2;0;0;0;48;2;248;248;248m,\u001b[0m\u001b[48;2;248;248;248m                                                                                              \u001b[0m │\n",
       "│ \u001b[38;2;187;187;187;48;2;248;248;248m    \u001b[0m\u001b[38;2;186;33;33;48;2;248;248;248m\"margin pressure\"\u001b[0m\u001b[38;2;0;0;0;48;2;248;248;248m,\u001b[0m\u001b[48;2;248;248;248m                                                                                         \u001b[0m │\n",
       "│ \u001b[38;2;187;187;187;48;2;248;248;248m    \u001b[0m\u001b[38;2;186;33;33;48;2;248;248;248m\"GM\"\u001b[0m\u001b[38;2;0;0;0;48;2;248;248;248m,\u001b[0m\u001b[48;2;248;248;248m                                                                                                      \u001b[0m │\n",
       "│ \u001b[38;2;187;187;187;48;2;248;248;248m    \u001b[0m\u001b[38;2;186;33;33;48;2;248;248;248m\"competitive environment\"\u001b[0m\u001b[38;2;0;0;0;48;2;248;248;248m,\u001b[0m\u001b[48;2;248;248;248m                                                                                 \u001b[0m │\n",
       "│ \u001b[38;2;187;187;187;48;2;248;248;248m    \u001b[0m\u001b[38;2;186;33;33;48;2;248;248;248m\"tax planning\"\u001b[0m\u001b[38;2;0;0;0;48;2;248;248;248m,\u001b[0m\u001b[48;2;248;248;248m                                                                                            \u001b[0m │\n",
       "│ \u001b[38;2;187;187;187;48;2;248;248;248m    \u001b[0m\u001b[38;2;186;33;33;48;2;248;248;248m\"capital expenditures\"\u001b[0m\u001b[38;2;0;0;0;48;2;248;248;248m,\u001b[0m\u001b[48;2;248;248;248m                                                                                    \u001b[0m │\n",
       "│ \u001b[38;2;187;187;187;48;2;248;248;248m    \u001b[0m\u001b[38;2;186;33;33;48;2;248;248;248m\"Chinese JVs\"\u001b[0m\u001b[38;2;0;0;0;48;2;248;248;248m,\u001b[0m\u001b[48;2;248;248;248m                                                                                             \u001b[0m │\n",
       "│ \u001b[38;2;187;187;187;48;2;248;248;248m    \u001b[0m\u001b[38;2;186;33;33;48;2;248;248;248m\"guidance\"\u001b[0m\u001b[48;2;248;248;248m                                                                                                 \u001b[0m │\n",
       "│ \u001b[38;2;187;187;187;48;2;248;248;248m  \u001b[0m\u001b[38;2;0;0;0;48;2;248;248;248m],\u001b[0m\u001b[48;2;248;248;248m                                                                                                           \u001b[0m │\n",
       "│ \u001b[38;2;187;187;187;48;2;248;248;248m  \u001b[0m\u001b[1;38;2;0;128;0;48;2;248;248;248m\"named_entities\"\u001b[0m\u001b[38;2;0;0;0;48;2;248;248;248m:\u001b[0m\u001b[38;2;187;187;187;48;2;248;248;248m \u001b[0m\u001b[38;2;0;0;0;48;2;248;248;248m{\u001b[0m\u001b[48;2;248;248;248m                                                                                          \u001b[0m │\n",
       "│ \u001b[38;2;187;187;187;48;2;248;248;248m    \u001b[0m\u001b[1;38;2;0;128;0;48;2;248;248;248m\"organizations\"\u001b[0m\u001b[38;2;0;0;0;48;2;248;248;248m:\u001b[0m\u001b[38;2;187;187;187;48;2;248;248;248m \u001b[0m\u001b[38;2;0;0;0;48;2;248;248;248m[\u001b[0m\u001b[48;2;248;248;248m                                                                                         \u001b[0m │\n",
       "│ \u001b[38;2;187;187;187;48;2;248;248;248m      \u001b[0m\u001b[38;2;186;33;33;48;2;248;248;248m\"GM\"\u001b[0m\u001b[48;2;248;248;248m                                                                                                     \u001b[0m │\n",
       "│ \u001b[38;2;187;187;187;48;2;248;248;248m    \u001b[0m\u001b[38;2;0;0;0;48;2;248;248;248m],\u001b[0m\u001b[48;2;248;248;248m                                                                                                         \u001b[0m │\n",
       "│ \u001b[38;2;187;187;187;48;2;248;248;248m    \u001b[0m\u001b[1;38;2;0;128;0;48;2;248;248;248m\"people\"\u001b[0m\u001b[38;2;0;0;0;48;2;248;248;248m:\u001b[0m\u001b[38;2;187;187;187;48;2;248;248;248m \u001b[0m\u001b[1;38;2;0;128;0;48;2;248;248;248mnull\u001b[0m\u001b[38;2;0;0;0;48;2;248;248;248m,\u001b[0m\u001b[48;2;248;248;248m                                                                                            \u001b[0m │\n",
       "│ \u001b[38;2;187;187;187;48;2;248;248;248m    \u001b[0m\u001b[1;38;2;0;128;0;48;2;248;248;248m\"locations\"\u001b[0m\u001b[38;2;0;0;0;48;2;248;248;248m:\u001b[0m\u001b[38;2;187;187;187;48;2;248;248;248m \u001b[0m\u001b[1;38;2;0;128;0;48;2;248;248;248mnull\u001b[0m\u001b[38;2;0;0;0;48;2;248;248;248m,\u001b[0m\u001b[48;2;248;248;248m                                                                                         \u001b[0m │\n",
       "│ \u001b[38;2;187;187;187;48;2;248;248;248m    \u001b[0m\u001b[1;38;2;0;128;0;48;2;248;248;248m\"dates\"\u001b[0m\u001b[38;2;0;0;0;48;2;248;248;248m:\u001b[0m\u001b[38;2;187;187;187;48;2;248;248;248m \u001b[0m\u001b[1;38;2;0;128;0;48;2;248;248;248mnull\u001b[0m\u001b[48;2;248;248;248m                                                                                              \u001b[0m │\n",
       "│ \u001b[38;2;187;187;187;48;2;248;248;248m  \u001b[0m\u001b[38;2;0;0;0;48;2;248;248;248m},\u001b[0m\u001b[48;2;248;248;248m                                                                                                           \u001b[0m │\n",
       "│ \u001b[38;2;187;187;187;48;2;248;248;248m  \u001b[0m\u001b[1;38;2;0;128;0;48;2;248;248;248m\"sentiment\"\u001b[0m\u001b[38;2;0;0;0;48;2;248;248;248m:\u001b[0m\u001b[38;2;187;187;187;48;2;248;248;248m \u001b[0m\u001b[38;2;186;33;33;48;2;248;248;248m\"Neutral\"\u001b[0m\u001b[38;2;0;0;0;48;2;248;248;248m,\u001b[0m\u001b[48;2;248;248;248m                                                                                      \u001b[0m │\n",
       "│ \u001b[38;2;187;187;187;48;2;248;248;248m  \u001b[0m\u001b[1;38;2;0;128;0;48;2;248;248;248m\"seo\"\u001b[0m\u001b[38;2;0;0;0;48;2;248;248;248m:\u001b[0m\u001b[38;2;187;187;187;48;2;248;248;248m \u001b[0m\u001b[38;2;0;0;0;48;2;248;248;248m{\u001b[0m\u001b[48;2;248;248;248m                                                                                                     \u001b[0m │\n",
       "│ \u001b[38;2;187;187;187;48;2;248;248;248m    \u001b[0m\u001b[1;38;2;0;128;0;48;2;248;248;248m\"slug\"\u001b[0m\u001b[38;2;0;0;0;48;2;248;248;248m:\u001b[0m\u001b[38;2;187;187;187;48;2;248;248;248m \u001b[0m\u001b[38;2;186;33;33;48;2;248;248;248m\"Company discusses tax rate and investment plans amidst competitive environment\"\u001b[0m\u001b[38;2;0;0;0;48;2;248;248;248m,\u001b[0m\u001b[48;2;248;248;248m                  \u001b[0m │\n",
       "│ \u001b[38;2;187;187;187;48;2;248;248;248m    \u001b[0m\u001b[1;38;2;0;128;0;48;2;248;248;248m\"search_result_string\"\u001b[0m\u001b[38;2;0;0;0;48;2;248;248;248m:\u001b[0m\u001b[38;2;187;187;187;48;2;248;248;248m \u001b[0m\u001b[38;2;186;33;33;48;2;248;248;248m\"financial report tax rate reduction investment plans margin pressure competitive l\u001b[0m │\n",
       "│ \u001b[38;2;187;187;187;48;2;248;248;248m  \u001b[0m\u001b[38;2;0;0;0;48;2;248;248;248m},\u001b[0m\u001b[48;2;248;248;248m                                                                                                           \u001b[0m │\n",
       "│ \u001b[38;2;187;187;187;48;2;248;248;248m  \u001b[0m\u001b[1;38;2;0;128;0;48;2;248;248;248m\"summary_es\"\u001b[0m\u001b[38;2;0;0;0;48;2;248;248;248m:\u001b[0m\u001b[38;2;187;187;187;48;2;248;248;248m \u001b[0m\u001b[38;2;186;33;33;48;2;248;248;248m\"La empresa discuti\\u00f3 su tasa impositiva, se\\u00f1alando que los ingresos por acciones se i\u001b[0m │\n",
       "│ \u001b[38;2;0;0;0;48;2;248;248;248m}\u001b[0m\u001b[48;2;248;248;248m                                                                                                              \u001b[0m │\n",
       "╰─────────────────────────────────────────────────────────────────────────────────────────────────────────────────╯\n"
      ]
     },
     "metadata": {},
     "output_type": "display_data"
    }
   ],
   "source": [
    "from rich.console import Console\n",
    "from rich.panel import Panel\n",
    "from rich.syntax import Syntax\n",
    "import random\n",
    "import json\n",
    "\n",
    "\n",
    "rand_idx = random.choice(range(len(generated_data)))\n",
    "# Your data\n",
    "data = json.loads(generated_data[rand_idx][\"json_output\"])\n",
    "\n",
    "# Convert to JSON string with indentation for pretty printing\n",
    "json_str = json.dumps(data, indent=2)\n",
    "\n",
    "# Create syntax highlighted JSON\n",
    "syntax = Syntax(json_str, \"json\", theme=\"github\", line_numbers=False)\n",
    "\n",
    "# Display it inside a panel\n",
    "console = Console()\n",
    "console.print(Panel(syntax, title=\"📊 Extracted Summary\", expand=True))"
   ]
  },
  {
   "cell_type": "code",
   "execution_count": 49,
   "metadata": {},
   "outputs": [
    {
     "name": "stdout",
     "output_type": "stream",
     "text": [
      "{\n",
      "  \"summary\": \"American Airlines Group reported a strong third quarter despite operational challenges from hurricanes, with the company's team delivering excellent results amidst difficult conditions. The airline's investments in people, product, and new corporate sales initiatives are beginning to pay off, with encouraging results from the introduction of new revenue management tools and changes to the AAdvantage program. Management expressed confidence in the company's ability to execute its business model and provide long-term value to shareholders, highlighting a measured approach to matching capacity with demand. The company also noted the successful launch of Basic Economy across its domestic system and the positive impact of its new customer bag notification tool. Overall, American Airlines Group remains focused on its strategic priorities and is well-positioned for future growth.\",\n",
      "  \"tldr\": \"American Airlines Group reports a strong third quarter despite operational challenges, with investments in people and product paying off. The company sees encouraging results from new revenue management tools and a successful Basic Economy launch, and remains focused on executing its business model for long-term shareholder value.\",\n",
      "  \"keywords\": [\n",
      "    \"American Airlines\",\n",
      "    \"Q3 earnings\",\n",
      "    \"revenue outlook\",\n",
      "    \"Premium Economy\",\n",
      "    \"Basic Economy\",\n",
      "    \"AAdvantage program\",\n",
      "    \"capacity management\",\n",
      "    \"hurricane impact\",\n",
      "    \"guidance\",\n",
      "    \"loyalty revenue\"\n",
      "  ],\n",
      "  \"named_entities\": {\n",
      "    \"organizations\": [\n",
      "      \"American Airlines Group\",\n",
      "      \"NAACP\"\n",
      "    ],\n",
      "    \"people\": [\n",
      "      \"Derek\",\n",
      "      \"Robert\"\n",
      "    ],\n",
      "    \"locations\": [\n",
      "      \"Miami\",\n",
      "      \"Florida\",\n",
      "      \"Puerto Rico\",\n",
      "      \"Caribbean\",\n",
      "      \"Mexico City\"\n",
      "    ],\n",
      "    \"dates\": [\n",
      "      \"Third Quarter 2017\",\n",
      "      2016,\n",
      "      2018,\n",
      "      \"September 5\"\n",
      "    ]\n",
      "  },\n",
      "  \"sentiment\": \"Positive\",\n",
      "  \"seo\": {\n",
      "    \"slug\": \"American Airlines Q3 earnings: Strong results despite hurricane impact, driven by investments in people and product\",\n",
      "    \"search_result_string\": \"American Airlines Q3 earnings report hurricane impact revenue growth Premium Economy Basic Economy AAdvantage program capacity management guidance loyalty revenue\"\n",
      "  },\n",
      "  \"summary_es\": \"American Airlines Group informa un fuerte tercer trimestre a pesar de los desafios operativos de los huracanes, con el equipo de la compania entregando resultados excelentes en condiciones dificiles. Las inversiones de la aerolinea en personas, producto y nuevas iniciativas de ventas corporativas estan comenzando a dar resultados, con resultados alentadores de la introduccion de nuevas herramientas de gestion de ingresos y cambios en el programa AAdvantage. La gestion expreso confianza en la capacidad de la compania para ejecutar su modelo de negocio y proporcionar valor a largo plazo a los accionistas, destacando un enfoque medido para igualar la capacidad con la demanda. La compania tambien noto el lanzamiento exitoso de Basic Economy en todo su sistema domestico y el impacto positivo de su nueva herramienta de notificacion de equipaje del cliente. En general, American Airlines Group sigue enfocado en sus prioridades estrategicas y esta bien posicionado para el crecimiento futuro.\"\n",
      "}\n"
     ]
    }
   ],
   "source": [
    "print(json_str)"
   ]
  },
  {
   "cell_type": "code",
   "execution_count": null,
   "metadata": {},
   "outputs": [],
   "source": []
  },
  {
   "cell_type": "markdown",
   "metadata": {},
   "source": [
    "## ✅ Conclusion\n",
    "\n",
    "In this section, we demonstrated how to construct an end-to-end pipeline that transforms unstructured PDF transcripts into structured JSON insights using modular building blocks. By parsing the document, prompting an LLM to extract specific features, and formatting the results, we’ve created a scalable workflow for financial document analysis—or any use case involving long-form text.\n",
    "\n",
    "## 📝 Homework: Extend the Pipeline\n",
    "\n",
    "Your task is to add a new block that extracts a different kind of structured insight from the conversation context.\n",
    "\n",
    "Some examples include:\n",
    "* 🧩 Risk factors mentioned in the call\n",
    "* 📊 Numerical metrics (e.g., revenue, margin, headcount)\n",
    "* 📌 Action items or decisions discussed\n",
    "\n",
    "Once you’ve done that, you’ll have taken the first step toward custom skill authoring, opening the door to richer document understanding tailored to your own domain needs. \n",
    "\n",
    "\n",
    "\n"
   ]
  }
 ],
 "metadata": {
  "kernelspec": {
   "display_name": "sdg_demo",
   "language": "python",
   "name": "python3"
  },
  "language_info": {
   "codemirror_mode": {
    "name": "ipython",
    "version": 3
   },
   "file_extension": ".py",
   "mimetype": "text/x-python",
   "name": "python",
   "nbconvert_exporter": "python",
   "pygments_lexer": "ipython3",
   "version": "3.11.12"
  }
 },
 "nbformat": 4,
 "nbformat_minor": 2
}
