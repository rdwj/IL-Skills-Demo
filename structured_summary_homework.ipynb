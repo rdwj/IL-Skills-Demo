{
 "cells": [
  {
   "cell_type": "code",
   "execution_count": 16,
   "metadata": {},
   "outputs": [
    {
     "name": "stdout",
     "output_type": "stream",
     "text": [
      "The autoreload extension is already loaded. To reload it, use:\n",
      "  %reload_ext autoreload\n"
     ]
    }
   ],
   "source": [
    "%load_ext autoreload\n",
    "%autoreload 2"
   ]
  },
  {
   "cell_type": "markdown",
   "metadata": {},
   "source": [
    "## 🧾 Use Case 3: Structured Summary from Conversations\n",
    "\n",
    "In many enterprise workflows, unstructured conversations—like meeting transcripts, support calls, or financial briefings—contain valuable insights that need to be distilled into structured formats for downstream processing.\n",
    "\n",
    "In this use case, we aim to extract **structured summaries** from raw conversational transcripts. Specifically, we want the model to extract:\n",
    "\n",
    "- A concise **summary** of the conversation\n",
    "- Relevant **keywords**\n",
    "- **Named entities** such as people, organizations, and dates\n",
    "- The **sentiment** of the discussion\n",
    "\n",
    "\n",
    "### Why is this useful?\n",
    "\n",
    "Rather than just generating freeform text, this task helps transform unstructured inputs into **machine-readable structured outputs**, making it suitable for:\n",
    "\n",
    "- Reporting dashboards  \n",
    "- Automated indexing and retrieval  \n",
    "- Analytics pipelines  \n",
    "- Compliance and auditing tools\n",
    "\n",
    "### PDF Data \n",
    "\n",
    "<img src=\"assets/financial_transcripts.png\">\n"
   ]
  },
  {
   "cell_type": "markdown",
   "metadata": {},
   "source": [
    "## 🧑‍🏫 Step 1: Set Up the Teacher Model\n",
    "\n",
    "This demo expects an openai compatible endpoint. You can use your favorite inference server like vLLM, HFInferenceServer, LlamaStack, etc. For more details on how to setup an inference server using vLLM, please refer to the [README](README.md).\n",
    "\n",
    "For this demo we will use Llama-3.3-70B-Instruct as our teacher model.\n",
    "\n",
    "#### Let's test the connection"
   ]
  },
  {
   "cell_type": "code",
   "execution_count": 17,
   "metadata": {},
   "outputs": [
    {
     "name": "stdout",
     "output_type": "stream",
     "text": [
      "Connection successful! meta-llama/Llama-3.3-70B-Instruct: Hello. How can I help you today?\n"
     ]
    }
   ],
   "source": [
    "from openai import OpenAI\n",
    "\n",
    "openai_api_key = \"EMPTY\"  # replace with your inference server api key\n",
    "openai_api_base = (\n",
    "    \"http://150.239.209.43:8008/v1\"  # replace with your inference server endpoint\n",
    ")\n",
    "\n",
    "\n",
    "client = OpenAI(\n",
    "    api_key=openai_api_key,\n",
    "    base_url=openai_api_base,\n",
    ")\n",
    "\n",
    "models = client.models.list()\n",
    "teacher_model = models.data[0].id\n",
    "\n",
    "# Test the connection with a simple completion\n",
    "response = client.chat.completions.create(\n",
    "    model=teacher_model,\n",
    "    messages=[{\"role\": \"user\", \"content\": \"Hello!\"}],\n",
    "    temperature=0.0,\n",
    "    max_tokens=10,\n",
    ")\n",
    "completion = response.choices[0].message.content\n",
    "\n",
    "print(f\"Connection successful! {teacher_model}: {completion}\")"
   ]
  },
  {
   "cell_type": "code",
   "execution_count": 18,
   "metadata": {},
   "outputs": [],
   "source": [
    "from datasets import load_dataset\n",
    "\n",
    "seed_data = load_dataset(\n",
    "    \"json\", data_files=\"seed_data/financial_call_transcripts.jsonl\", split=\"train\"\n",
    ")"
   ]
  },
  {
   "cell_type": "code",
   "execution_count": 19,
   "metadata": {},
   "outputs": [
    {
     "data": {
      "text/plain": [
       "{'conversation_id': 'c47a92e006b54d014a79b447528c55a7',\n",
       " 'pdf_path': 'seed_data/financial_call_transcripts/c47a92e006b54d014a79b447528c55a7.pdf'}"
      ]
     },
     "execution_count": 19,
     "metadata": {},
     "output_type": "execute_result"
    }
   ],
   "source": [
    "seed_data[0]"
   ]
  },
  {
   "cell_type": "markdown",
   "metadata": {},
   "source": [
    "## Setting up the pipeline\n",
    "\n",
    "\n",
    "In this section, we walk through a pipeline designed to process financial call transcripts (in PDF format) and extract structured insights using LLM-powered blocks. This is a classic example of transforming unstructured text into structured JSON for downstream analysis.\n",
    "\n",
    "\n",
    "\n",
    "This YAML defines a flow that reads PDF transcripts, parses them into text, and then uses LLMs to extract:\n",
    "* ✅ Summary of the transcript\n",
    "* ✅ Key topics or keywords\n",
    "* ✅ Mentioned named entities (people, organizations, locations, etc.)\n",
    "* ✅ Overall sentiment of the call\n",
    "\n",
    "All of these are combined into a final structured json_output.\n",
    "\n",
    "\n",
    "```mermaid \n",
    "graph LR\n",
    "    A[PDF Transcript] --> B[parse_transcript<br/>DoclingParsePDF]\n",
    "    B --> C[conversation]\n",
    "    C --> D[add_question<br/>AddStaticValue]\n",
    "    D --> E[gen_summary<br/>LLMBlock]\n",
    "    E --> F[gen_keywords<br/>LLMBlock]\n",
    "    F --> G[gen_named_entities<br/>LLMBlock]\n",
    "    G --> H[gen_sentiment<br/>LLMBlock]\n",
    "\n",
    "    H --> I[format_json<br/>JSONFormat]\n",
    "    I --> J[json_output]\n",
    "```\n",
    "\n",
    "\n",
    "```yaml\n",
    "version: \"1.0\"\n",
    "blocks:\n",
    "  - name: parse_transcript\n",
    "    type: DoclingParsePDF\n",
    "    config:\n",
    "      pdf_path_column: pdf_path\n",
    "      output_column: conversation\n",
    "\n",
    "  - name: add_question\n",
    "    type: AddStaticValue\n",
    "    config:\n",
    "      column_name: question\n",
    "      static_value: >\n",
    "        Extract summary, keywords, named entities, and sentiment from the transcript and return in JSON format.\n",
    "\n",
    "  - name: gen_summary\n",
    "    type: LLMBlock\n",
    "    config:\n",
    "      config_path: ../prompts/summary.yaml\n",
    "      output_cols:\n",
    "        - summary\n",
    "\n",
    "  - name: gen_keywords\n",
    "    type: LLMBlock\n",
    "    config:\n",
    "      config_path: ../prompts/keywords.yaml\n",
    "      output_cols:\n",
    "        - keywords\n",
    "\n",
    "  - name: gen_named_entities\n",
    "    type: LLMBlock\n",
    "    config:\n",
    "      config_path: ../prompts/named_entities.yaml\n",
    "      output_cols:\n",
    "        - named_entities\n",
    "\n",
    "  - name: gen_sentiment\n",
    "    type: LLMBlock\n",
    "    config:\n",
    "      config_path: ../prompts/sentiment.yaml\n",
    "      output_cols:\n",
    "        - sentiment\n",
    "\n",
    "  - name: format_json\n",
    "    type: JSONFormat\n",
    "    config:\n",
    "      output_column: json_output\n",
    "    drop_columns:\n",
    "      - summary\n",
    "      - keywords\n",
    "      - named_entities\n",
    "      - sentiment\n",
    "```"
   ]
  },
  {
   "cell_type": "code",
   "execution_count": 20,
   "metadata": {},
   "outputs": [],
   "source": [
    "import os\n",
    "from instructlab.sdg.pipeline import Pipeline, PipelineContext\n",
    "from blocks import *\n",
    "\n",
    "ctx = PipelineContext(\n",
    "    client=client, model_family=\"llama\", model_id=teacher_model, batch_size=0\n",
    ")\n",
    "skills_pipe = Pipeline.from_file(\n",
    "    ctx, os.path.join(os.getcwd(), \"flows/grounded_summary_extraction_homework.yaml\")\n",
    ")"
   ]
  },
  {
   "cell_type": "code",
   "execution_count": 21,
   "metadata": {},
   "outputs": [
    {
     "name": "stderr",
     "output_type": "stream",
     "text": [
      "Map: 100%|██████████| 10/10 [00:00<00:00, 926.02 examples/s]\n"
     ]
    }
   ],
   "source": [
    "seed_data = seed_data.select(range(10)) # note: this is just for demo purposes, in practice you can use the entire dataset\n",
    "generated_data = skills_pipe.generate(seed_data)"
   ]
  },
  {
   "cell_type": "code",
   "execution_count": 22,
   "metadata": {},
   "outputs": [
    {
     "data": {
      "text/html": [
       "<pre style=\"white-space:pre;overflow-x:auto;line-height:normal;font-family:Menlo,'DejaVu Sans Mono',consolas,'Courier New',monospace\">╭───────────────────────────────────────────── 📊 Extracted Summary ──────────────────────────────────────────────╮\n",
       "│ <span style=\"color: #000000; text-decoration-color: #000000; background-color: #f8f8f8\">{</span><span style=\"background-color: #f8f8f8\">                                                                                                              </span> │\n",
       "│ <span style=\"color: #bbbbbb; text-decoration-color: #bbbbbb; background-color: #f8f8f8\">  </span><span style=\"color: #008000; text-decoration-color: #008000; background-color: #f8f8f8; font-weight: bold\">\"summary\"</span><span style=\"color: #000000; text-decoration-color: #000000; background-color: #f8f8f8\">:</span><span style=\"color: #bbbbbb; text-decoration-color: #bbbbbb; background-color: #f8f8f8\"> </span><span style=\"color: #ba2121; text-decoration-color: #ba2121; background-color: #f8f8f8\">\"The company reported a slight increase in container throughput, primarily driven by growth in Far</span> │\n",
       "│ <span style=\"color: #bbbbbb; text-decoration-color: #bbbbbb; background-color: #f8f8f8\">  </span><span style=\"color: #008000; text-decoration-color: #008000; background-color: #f8f8f8; font-weight: bold\">\"keywords\"</span><span style=\"color: #000000; text-decoration-color: #000000; background-color: #f8f8f8\">:</span><span style=\"color: #bbbbbb; text-decoration-color: #bbbbbb; background-color: #f8f8f8\"> </span><span style=\"color: #000000; text-decoration-color: #000000; background-color: #f8f8f8\">[</span><span style=\"background-color: #f8f8f8\">                                                                                                </span> │\n",
       "│ <span style=\"color: #bbbbbb; text-decoration-color: #bbbbbb; background-color: #f8f8f8\">    </span><span style=\"color: #ba2121; text-decoration-color: #ba2121; background-color: #f8f8f8\">\"Metrans Group\"</span><span style=\"color: #000000; text-decoration-color: #000000; background-color: #f8f8f8\">,</span><span style=\"background-color: #f8f8f8\">                                                                                           </span> │\n",
       "│ <span style=\"color: #bbbbbb; text-decoration-color: #bbbbbb; background-color: #f8f8f8\">    </span><span style=\"color: #ba2121; text-decoration-color: #ba2121; background-color: #f8f8f8\">\"container throughput\"</span><span style=\"color: #000000; text-decoration-color: #000000; background-color: #f8f8f8\">,</span><span style=\"background-color: #f8f8f8\">                                                                                    </span> │\n",
       "│ <span style=\"color: #bbbbbb; text-decoration-color: #bbbbbb; background-color: #f8f8f8\">    </span><span style=\"color: #ba2121; text-decoration-color: #ba2121; background-color: #f8f8f8\">\"Far East volumes\"</span><span style=\"color: #000000; text-decoration-color: #000000; background-color: #f8f8f8\">,</span><span style=\"background-color: #f8f8f8\">                                                                                        </span> │\n",
       "│ <span style=\"color: #bbbbbb; text-decoration-color: #bbbbbb; background-color: #f8f8f8\">    </span><span style=\"color: #ba2121; text-decoration-color: #ba2121; background-color: #f8f8f8\">\"rail transportation\"</span><span style=\"color: #000000; text-decoration-color: #000000; background-color: #f8f8f8\">,</span><span style=\"background-color: #f8f8f8\">                                                                                     </span> │\n",
       "│ <span style=\"color: #bbbbbb; text-decoration-color: #bbbbbb; background-color: #f8f8f8\">    </span><span style=\"color: #ba2121; text-decoration-color: #ba2121; background-color: #f8f8f8\">\"efficiency focus\"</span><span style=\"color: #000000; text-decoration-color: #000000; background-color: #f8f8f8\">,</span><span style=\"background-color: #f8f8f8\">                                                                                        </span> │\n",
       "│ <span style=\"color: #bbbbbb; text-decoration-color: #bbbbbb; background-color: #f8f8f8\">    </span><span style=\"color: #ba2121; text-decoration-color: #ba2121; background-color: #f8f8f8\">\"global trade tensions\"</span><span style=\"color: #000000; text-decoration-color: #000000; background-color: #f8f8f8\">,</span><span style=\"background-color: #f8f8f8\">                                                                                   </span> │\n",
       "│ <span style=\"color: #bbbbbb; text-decoration-color: #bbbbbb; background-color: #f8f8f8\">    </span><span style=\"color: #ba2121; text-decoration-color: #ba2121; background-color: #f8f8f8\">\"Scandinavia\"</span><span style=\"color: #000000; text-decoration-color: #000000; background-color: #f8f8f8\">,</span><span style=\"background-color: #f8f8f8\">                                                                                             </span> │\n",
       "│ <span style=\"color: #bbbbbb; text-decoration-color: #bbbbbb; background-color: #f8f8f8\">    </span><span style=\"color: #ba2121; text-decoration-color: #ba2121; background-color: #f8f8f8\">\"Baltic region\"</span><span style=\"color: #000000; text-decoration-color: #000000; background-color: #f8f8f8\">,</span><span style=\"background-color: #f8f8f8\">                                                                                           </span> │\n",
       "│ <span style=\"color: #bbbbbb; text-decoration-color: #bbbbbb; background-color: #f8f8f8\">    </span><span style=\"color: #ba2121; text-decoration-color: #ba2121; background-color: #f8f8f8\">\"guidance\"</span><span style=\"color: #000000; text-decoration-color: #000000; background-color: #f8f8f8\">,</span><span style=\"background-color: #f8f8f8\">                                                                                                </span> │\n",
       "│ <span style=\"color: #bbbbbb; text-decoration-color: #bbbbbb; background-color: #f8f8f8\">    </span><span style=\"color: #ba2121; text-decoration-color: #ba2121; background-color: #f8f8f8\">\"margin pressure\"</span><span style=\"background-color: #f8f8f8\">                                                                                          </span> │\n",
       "│ <span style=\"color: #bbbbbb; text-decoration-color: #bbbbbb; background-color: #f8f8f8\">  </span><span style=\"color: #000000; text-decoration-color: #000000; background-color: #f8f8f8\">],</span><span style=\"background-color: #f8f8f8\">                                                                                                           </span> │\n",
       "│ <span style=\"color: #bbbbbb; text-decoration-color: #bbbbbb; background-color: #f8f8f8\">  </span><span style=\"color: #008000; text-decoration-color: #008000; background-color: #f8f8f8; font-weight: bold\">\"named_entities\"</span><span style=\"color: #000000; text-decoration-color: #000000; background-color: #f8f8f8\">:</span><span style=\"color: #bbbbbb; text-decoration-color: #bbbbbb; background-color: #f8f8f8\"> </span><span style=\"color: #000000; text-decoration-color: #000000; background-color: #f8f8f8\">{</span><span style=\"background-color: #f8f8f8\">                                                                                          </span> │\n",
       "│ <span style=\"color: #bbbbbb; text-decoration-color: #bbbbbb; background-color: #f8f8f8\">    </span><span style=\"color: #008000; text-decoration-color: #008000; background-color: #f8f8f8; font-weight: bold\">\"organizations\"</span><span style=\"color: #000000; text-decoration-color: #000000; background-color: #f8f8f8\">:</span><span style=\"color: #bbbbbb; text-decoration-color: #bbbbbb; background-color: #f8f8f8\"> </span><span style=\"color: #000000; text-decoration-color: #000000; background-color: #f8f8f8\">[</span><span style=\"background-color: #f8f8f8\">                                                                                         </span> │\n",
       "│ <span style=\"color: #bbbbbb; text-decoration-color: #bbbbbb; background-color: #f8f8f8\">      </span><span style=\"color: #ba2121; text-decoration-color: #ba2121; background-color: #f8f8f8\">\"Metrans Group\"</span><span style=\"background-color: #f8f8f8\">                                                                                          </span> │\n",
       "│ <span style=\"color: #bbbbbb; text-decoration-color: #bbbbbb; background-color: #f8f8f8\">    </span><span style=\"color: #000000; text-decoration-color: #000000; background-color: #f8f8f8\">],</span><span style=\"background-color: #f8f8f8\">                                                                                                         </span> │\n",
       "│ <span style=\"color: #bbbbbb; text-decoration-color: #bbbbbb; background-color: #f8f8f8\">    </span><span style=\"color: #008000; text-decoration-color: #008000; background-color: #f8f8f8; font-weight: bold\">\"people\"</span><span style=\"color: #000000; text-decoration-color: #000000; background-color: #f8f8f8\">:</span><span style=\"color: #bbbbbb; text-decoration-color: #bbbbbb; background-color: #f8f8f8\"> </span><span style=\"color: #008000; text-decoration-color: #008000; background-color: #f8f8f8; font-weight: bold\">null</span><span style=\"color: #000000; text-decoration-color: #000000; background-color: #f8f8f8\">,</span><span style=\"background-color: #f8f8f8\">                                                                                            </span> │\n",
       "│ <span style=\"color: #bbbbbb; text-decoration-color: #bbbbbb; background-color: #f8f8f8\">    </span><span style=\"color: #008000; text-decoration-color: #008000; background-color: #f8f8f8; font-weight: bold\">\"locations\"</span><span style=\"color: #000000; text-decoration-color: #000000; background-color: #f8f8f8\">:</span><span style=\"color: #bbbbbb; text-decoration-color: #bbbbbb; background-color: #f8f8f8\"> </span><span style=\"color: #000000; text-decoration-color: #000000; background-color: #f8f8f8\">[</span><span style=\"background-color: #f8f8f8\">                                                                                             </span> │\n",
       "│ <span style=\"color: #bbbbbb; text-decoration-color: #bbbbbb; background-color: #f8f8f8\">      </span><span style=\"color: #ba2121; text-decoration-color: #ba2121; background-color: #f8f8f8\">\"Hamburg\"</span><span style=\"color: #000000; text-decoration-color: #000000; background-color: #f8f8f8\">,</span><span style=\"background-color: #f8f8f8\">                                                                                               </span> │\n",
       "│ <span style=\"color: #bbbbbb; text-decoration-color: #bbbbbb; background-color: #f8f8f8\">      </span><span style=\"color: #ba2121; text-decoration-color: #ba2121; background-color: #f8f8f8\">\"Far East\"</span><span style=\"color: #000000; text-decoration-color: #000000; background-color: #f8f8f8\">,</span><span style=\"background-color: #f8f8f8\">                                                                                              </span> │\n",
       "│ <span style=\"color: #bbbbbb; text-decoration-color: #bbbbbb; background-color: #f8f8f8\">      </span><span style=\"color: #ba2121; text-decoration-color: #ba2121; background-color: #f8f8f8\">\"Scandinavia\"</span><span style=\"color: #000000; text-decoration-color: #000000; background-color: #f8f8f8\">,</span><span style=\"background-color: #f8f8f8\">                                                                                           </span> │\n",
       "│ <span style=\"color: #bbbbbb; text-decoration-color: #bbbbbb; background-color: #f8f8f8\">      </span><span style=\"color: #ba2121; text-decoration-color: #ba2121; background-color: #f8f8f8\">\"Baltic\"</span><span style=\"background-color: #f8f8f8\">                                                                                                 </span> │\n",
       "│ <span style=\"color: #bbbbbb; text-decoration-color: #bbbbbb; background-color: #f8f8f8\">    </span><span style=\"color: #000000; text-decoration-color: #000000; background-color: #f8f8f8\">],</span><span style=\"background-color: #f8f8f8\">                                                                                                         </span> │\n",
       "│ <span style=\"color: #bbbbbb; text-decoration-color: #bbbbbb; background-color: #f8f8f8\">    </span><span style=\"color: #008000; text-decoration-color: #008000; background-color: #f8f8f8; font-weight: bold\">\"dates\"</span><span style=\"color: #000000; text-decoration-color: #000000; background-color: #f8f8f8\">:</span><span style=\"color: #bbbbbb; text-decoration-color: #bbbbbb; background-color: #f8f8f8\"> </span><span style=\"color: #000000; text-decoration-color: #000000; background-color: #f8f8f8\">[</span><span style=\"background-color: #f8f8f8\">                                                                                                 </span> │\n",
       "│ <span style=\"color: #bbbbbb; text-decoration-color: #bbbbbb; background-color: #f8f8f8\">      </span><span style=\"color: #ba2121; text-decoration-color: #ba2121; background-color: #f8f8f8\">\"mid-August\"</span><span style=\"background-color: #f8f8f8\">                                                                                             </span> │\n",
       "│ <span style=\"color: #bbbbbb; text-decoration-color: #bbbbbb; background-color: #f8f8f8\">    </span><span style=\"color: #000000; text-decoration-color: #000000; background-color: #f8f8f8\">]</span><span style=\"background-color: #f8f8f8\">                                                                                                          </span> │\n",
       "│ <span style=\"color: #bbbbbb; text-decoration-color: #bbbbbb; background-color: #f8f8f8\">  </span><span style=\"color: #000000; text-decoration-color: #000000; background-color: #f8f8f8\">},</span><span style=\"background-color: #f8f8f8\">                                                                                                           </span> │\n",
       "│ <span style=\"color: #bbbbbb; text-decoration-color: #bbbbbb; background-color: #f8f8f8\">  </span><span style=\"color: #008000; text-decoration-color: #008000; background-color: #f8f8f8; font-weight: bold\">\"sentiment\"</span><span style=\"color: #000000; text-decoration-color: #000000; background-color: #f8f8f8\">:</span><span style=\"color: #bbbbbb; text-decoration-color: #bbbbbb; background-color: #f8f8f8\"> </span><span style=\"color: #ba2121; text-decoration-color: #ba2121; background-color: #f8f8f8\">\"Neutral\"</span><span style=\"color: #000000; text-decoration-color: #000000; background-color: #f8f8f8\">,</span><span style=\"background-color: #f8f8f8\">                                                                                      </span> │\n",
       "│ <span style=\"color: #bbbbbb; text-decoration-color: #bbbbbb; background-color: #f8f8f8\">  </span><span style=\"color: #008000; text-decoration-color: #008000; background-color: #f8f8f8; font-weight: bold\">\"intention\"</span><span style=\"color: #000000; text-decoration-color: #000000; background-color: #f8f8f8\">:</span><span style=\"color: #bbbbbb; text-decoration-color: #bbbbbb; background-color: #f8f8f8\"> </span><span style=\"color: #000000; text-decoration-color: #000000; background-color: #f8f8f8\">{</span><span style=\"background-color: #f8f8f8\">                                                                                               </span> │\n",
       "│ <span style=\"color: #bbbbbb; text-decoration-color: #bbbbbb; background-color: #f8f8f8\">    </span><span style=\"color: #008000; text-decoration-color: #008000; background-color: #f8f8f8; font-weight: bold\">\"overt_intention\"</span><span style=\"color: #000000; text-decoration-color: #000000; background-color: #f8f8f8\">:</span><span style=\"color: #bbbbbb; text-decoration-color: #bbbbbb; background-color: #f8f8f8\"> </span><span style=\"color: #000000; text-decoration-color: #000000; background-color: #f8f8f8\">[</span><span style=\"background-color: #f8f8f8\">                                                                                       </span> │\n",
       "│ <span style=\"color: #bbbbbb; text-decoration-color: #bbbbbb; background-color: #f8f8f8\">      </span><span style=\"color: #ba2121; text-decoration-color: #ba2121; background-color: #f8f8f8\">\"to communicate financial trends and changes in the company\"</span><span style=\"color: #000000; text-decoration-color: #000000; background-color: #f8f8f8\">,</span><span style=\"background-color: #f8f8f8\">                                            </span> │\n",
       "│ <span style=\"color: #bbbbbb; text-decoration-color: #bbbbbb; background-color: #f8f8f8\">      </span><span style=\"color: #ba2121; text-decoration-color: #ba2121; background-color: #f8f8f8\">\"to explain certain factors affecting growth\"</span><span style=\"color: #000000; text-decoration-color: #000000; background-color: #f8f8f8\">,</span><span style=\"background-color: #f8f8f8\">                                                           </span> │\n",
       "│ <span style=\"color: #bbbbbb; text-decoration-color: #bbbbbb; background-color: #f8f8f8\">      </span><span style=\"color: #ba2121; text-decoration-color: #ba2121; background-color: #f8f8f8\">\"to provide updates on various issues such as transportation and cargo volume\"</span><span style=\"color: #000000; text-decoration-color: #000000; background-color: #f8f8f8\">,</span><span style=\"background-color: #f8f8f8\">                          </span> │\n",
       "│ <span style=\"color: #bbbbbb; text-decoration-color: #bbbbbb; background-color: #f8f8f8\">      </span><span style=\"color: #ba2121; text-decoration-color: #ba2121; background-color: #f8f8f8\">\"to discuss future expectations for the world economy\"</span><span style=\"color: #000000; text-decoration-color: #000000; background-color: #f8f8f8\">,</span><span style=\"background-color: #f8f8f8\">                                                  </span> │\n",
       "│ <span style=\"color: #bbbbbb; text-decoration-color: #bbbbbb; background-color: #f8f8f8\">      </span><span style=\"color: #ba2121; text-decoration-color: #ba2121; background-color: #f8f8f8\">\"to mention the company's efficiency focus and its impact\"</span><span style=\"color: #000000; text-decoration-color: #000000; background-color: #f8f8f8\">,</span><span style=\"background-color: #f8f8f8\">                                              </span> │\n",
       "│ <span style=\"color: #bbbbbb; text-decoration-color: #bbbbbb; background-color: #f8f8f8\">      </span><span style=\"color: #ba2121; text-decoration-color: #ba2121; background-color: #f8f8f8\">\"to reiterate guidance and share expectations about future performance\"</span><span style=\"background-color: #f8f8f8\">                                  </span> │\n",
       "│ <span style=\"color: #bbbbbb; text-decoration-color: #bbbbbb; background-color: #f8f8f8\">    </span><span style=\"color: #000000; text-decoration-color: #000000; background-color: #f8f8f8\">],</span><span style=\"background-color: #f8f8f8\">                                                                                                         </span> │\n",
       "│ <span style=\"color: #bbbbbb; text-decoration-color: #bbbbbb; background-color: #f8f8f8\">    </span><span style=\"color: #008000; text-decoration-color: #008000; background-color: #f8f8f8; font-weight: bold\">\"covert_intention\"</span><span style=\"color: #000000; text-decoration-color: #000000; background-color: #f8f8f8\">:</span><span style=\"color: #bbbbbb; text-decoration-color: #bbbbbb; background-color: #f8f8f8\"> </span><span style=\"color: #000000; text-decoration-color: #000000; background-color: #f8f8f8\">[</span><span style=\"background-color: #f8f8f8\">                                                                                      </span> │\n",
       "│ <span style=\"color: #bbbbbb; text-decoration-color: #bbbbbb; background-color: #f8f8f8\">      </span><span style=\"color: #ba2121; text-decoration-color: #ba2121; background-color: #f8f8f8\">\"to reassure investors or stakeholders about the company's growth and financial stability despite global </span> │\n",
       "│ <span style=\"color: #bbbbbb; text-decoration-color: #bbbbbb; background-color: #f8f8f8\">      </span><span style=\"color: #ba2121; text-decoration-color: #ba2121; background-color: #f8f8f8\">\"to subtly address concerns by providing specific data and explanations about the company's strategies an</span> │\n",
       "│ <span style=\"color: #bbbbbb; text-decoration-color: #bbbbbb; background-color: #f8f8f8\">      </span><span style=\"color: #ba2121; text-decoration-color: #ba2121; background-color: #f8f8f8\">\"to promote the company's plans and progress in a positive light, highlighting successes such as the inte</span> │\n",
       "│ <span style=\"color: #bbbbbb; text-decoration-color: #bbbbbb; background-color: #f8f8f8\">    </span><span style=\"color: #000000; text-decoration-color: #000000; background-color: #f8f8f8\">]</span><span style=\"background-color: #f8f8f8\">                                                                                                          </span> │\n",
       "│ <span style=\"color: #bbbbbb; text-decoration-color: #bbbbbb; background-color: #f8f8f8\">  </span><span style=\"color: #000000; text-decoration-color: #000000; background-color: #f8f8f8\">}</span><span style=\"background-color: #f8f8f8\">                                                                                                            </span> │\n",
       "│ <span style=\"color: #000000; text-decoration-color: #000000; background-color: #f8f8f8\">}</span><span style=\"background-color: #f8f8f8\">                                                                                                              </span> │\n",
       "╰─────────────────────────────────────────────────────────────────────────────────────────────────────────────────╯\n",
       "</pre>\n"
      ],
      "text/plain": [
       "╭───────────────────────────────────────────── 📊 Extracted Summary ──────────────────────────────────────────────╮\n",
       "│ \u001b[38;2;0;0;0;48;2;248;248;248m{\u001b[0m\u001b[48;2;248;248;248m                                                                                                              \u001b[0m │\n",
       "│ \u001b[38;2;187;187;187;48;2;248;248;248m  \u001b[0m\u001b[1;38;2;0;128;0;48;2;248;248;248m\"summary\"\u001b[0m\u001b[38;2;0;0;0;48;2;248;248;248m:\u001b[0m\u001b[38;2;187;187;187;48;2;248;248;248m \u001b[0m\u001b[38;2;186;33;33;48;2;248;248;248m\"The company reported a slight increase in container throughput, primarily driven by growth in Far\u001b[0m │\n",
       "│ \u001b[38;2;187;187;187;48;2;248;248;248m  \u001b[0m\u001b[1;38;2;0;128;0;48;2;248;248;248m\"keywords\"\u001b[0m\u001b[38;2;0;0;0;48;2;248;248;248m:\u001b[0m\u001b[38;2;187;187;187;48;2;248;248;248m \u001b[0m\u001b[38;2;0;0;0;48;2;248;248;248m[\u001b[0m\u001b[48;2;248;248;248m                                                                                                \u001b[0m │\n",
       "│ \u001b[38;2;187;187;187;48;2;248;248;248m    \u001b[0m\u001b[38;2;186;33;33;48;2;248;248;248m\"Metrans Group\"\u001b[0m\u001b[38;2;0;0;0;48;2;248;248;248m,\u001b[0m\u001b[48;2;248;248;248m                                                                                           \u001b[0m │\n",
       "│ \u001b[38;2;187;187;187;48;2;248;248;248m    \u001b[0m\u001b[38;2;186;33;33;48;2;248;248;248m\"container throughput\"\u001b[0m\u001b[38;2;0;0;0;48;2;248;248;248m,\u001b[0m\u001b[48;2;248;248;248m                                                                                    \u001b[0m │\n",
       "│ \u001b[38;2;187;187;187;48;2;248;248;248m    \u001b[0m\u001b[38;2;186;33;33;48;2;248;248;248m\"Far East volumes\"\u001b[0m\u001b[38;2;0;0;0;48;2;248;248;248m,\u001b[0m\u001b[48;2;248;248;248m                                                                                        \u001b[0m │\n",
       "│ \u001b[38;2;187;187;187;48;2;248;248;248m    \u001b[0m\u001b[38;2;186;33;33;48;2;248;248;248m\"rail transportation\"\u001b[0m\u001b[38;2;0;0;0;48;2;248;248;248m,\u001b[0m\u001b[48;2;248;248;248m                                                                                     \u001b[0m │\n",
       "│ \u001b[38;2;187;187;187;48;2;248;248;248m    \u001b[0m\u001b[38;2;186;33;33;48;2;248;248;248m\"efficiency focus\"\u001b[0m\u001b[38;2;0;0;0;48;2;248;248;248m,\u001b[0m\u001b[48;2;248;248;248m                                                                                        \u001b[0m │\n",
       "│ \u001b[38;2;187;187;187;48;2;248;248;248m    \u001b[0m\u001b[38;2;186;33;33;48;2;248;248;248m\"global trade tensions\"\u001b[0m\u001b[38;2;0;0;0;48;2;248;248;248m,\u001b[0m\u001b[48;2;248;248;248m                                                                                   \u001b[0m │\n",
       "│ \u001b[38;2;187;187;187;48;2;248;248;248m    \u001b[0m\u001b[38;2;186;33;33;48;2;248;248;248m\"Scandinavia\"\u001b[0m\u001b[38;2;0;0;0;48;2;248;248;248m,\u001b[0m\u001b[48;2;248;248;248m                                                                                             \u001b[0m │\n",
       "│ \u001b[38;2;187;187;187;48;2;248;248;248m    \u001b[0m\u001b[38;2;186;33;33;48;2;248;248;248m\"Baltic region\"\u001b[0m\u001b[38;2;0;0;0;48;2;248;248;248m,\u001b[0m\u001b[48;2;248;248;248m                                                                                           \u001b[0m │\n",
       "│ \u001b[38;2;187;187;187;48;2;248;248;248m    \u001b[0m\u001b[38;2;186;33;33;48;2;248;248;248m\"guidance\"\u001b[0m\u001b[38;2;0;0;0;48;2;248;248;248m,\u001b[0m\u001b[48;2;248;248;248m                                                                                                \u001b[0m │\n",
       "│ \u001b[38;2;187;187;187;48;2;248;248;248m    \u001b[0m\u001b[38;2;186;33;33;48;2;248;248;248m\"margin pressure\"\u001b[0m\u001b[48;2;248;248;248m                                                                                          \u001b[0m │\n",
       "│ \u001b[38;2;187;187;187;48;2;248;248;248m  \u001b[0m\u001b[38;2;0;0;0;48;2;248;248;248m],\u001b[0m\u001b[48;2;248;248;248m                                                                                                           \u001b[0m │\n",
       "│ \u001b[38;2;187;187;187;48;2;248;248;248m  \u001b[0m\u001b[1;38;2;0;128;0;48;2;248;248;248m\"named_entities\"\u001b[0m\u001b[38;2;0;0;0;48;2;248;248;248m:\u001b[0m\u001b[38;2;187;187;187;48;2;248;248;248m \u001b[0m\u001b[38;2;0;0;0;48;2;248;248;248m{\u001b[0m\u001b[48;2;248;248;248m                                                                                          \u001b[0m │\n",
       "│ \u001b[38;2;187;187;187;48;2;248;248;248m    \u001b[0m\u001b[1;38;2;0;128;0;48;2;248;248;248m\"organizations\"\u001b[0m\u001b[38;2;0;0;0;48;2;248;248;248m:\u001b[0m\u001b[38;2;187;187;187;48;2;248;248;248m \u001b[0m\u001b[38;2;0;0;0;48;2;248;248;248m[\u001b[0m\u001b[48;2;248;248;248m                                                                                         \u001b[0m │\n",
       "│ \u001b[38;2;187;187;187;48;2;248;248;248m      \u001b[0m\u001b[38;2;186;33;33;48;2;248;248;248m\"Metrans Group\"\u001b[0m\u001b[48;2;248;248;248m                                                                                          \u001b[0m │\n",
       "│ \u001b[38;2;187;187;187;48;2;248;248;248m    \u001b[0m\u001b[38;2;0;0;0;48;2;248;248;248m],\u001b[0m\u001b[48;2;248;248;248m                                                                                                         \u001b[0m │\n",
       "│ \u001b[38;2;187;187;187;48;2;248;248;248m    \u001b[0m\u001b[1;38;2;0;128;0;48;2;248;248;248m\"people\"\u001b[0m\u001b[38;2;0;0;0;48;2;248;248;248m:\u001b[0m\u001b[38;2;187;187;187;48;2;248;248;248m \u001b[0m\u001b[1;38;2;0;128;0;48;2;248;248;248mnull\u001b[0m\u001b[38;2;0;0;0;48;2;248;248;248m,\u001b[0m\u001b[48;2;248;248;248m                                                                                            \u001b[0m │\n",
       "│ \u001b[38;2;187;187;187;48;2;248;248;248m    \u001b[0m\u001b[1;38;2;0;128;0;48;2;248;248;248m\"locations\"\u001b[0m\u001b[38;2;0;0;0;48;2;248;248;248m:\u001b[0m\u001b[38;2;187;187;187;48;2;248;248;248m \u001b[0m\u001b[38;2;0;0;0;48;2;248;248;248m[\u001b[0m\u001b[48;2;248;248;248m                                                                                             \u001b[0m │\n",
       "│ \u001b[38;2;187;187;187;48;2;248;248;248m      \u001b[0m\u001b[38;2;186;33;33;48;2;248;248;248m\"Hamburg\"\u001b[0m\u001b[38;2;0;0;0;48;2;248;248;248m,\u001b[0m\u001b[48;2;248;248;248m                                                                                               \u001b[0m │\n",
       "│ \u001b[38;2;187;187;187;48;2;248;248;248m      \u001b[0m\u001b[38;2;186;33;33;48;2;248;248;248m\"Far East\"\u001b[0m\u001b[38;2;0;0;0;48;2;248;248;248m,\u001b[0m\u001b[48;2;248;248;248m                                                                                              \u001b[0m │\n",
       "│ \u001b[38;2;187;187;187;48;2;248;248;248m      \u001b[0m\u001b[38;2;186;33;33;48;2;248;248;248m\"Scandinavia\"\u001b[0m\u001b[38;2;0;0;0;48;2;248;248;248m,\u001b[0m\u001b[48;2;248;248;248m                                                                                           \u001b[0m │\n",
       "│ \u001b[38;2;187;187;187;48;2;248;248;248m      \u001b[0m\u001b[38;2;186;33;33;48;2;248;248;248m\"Baltic\"\u001b[0m\u001b[48;2;248;248;248m                                                                                                 \u001b[0m │\n",
       "│ \u001b[38;2;187;187;187;48;2;248;248;248m    \u001b[0m\u001b[38;2;0;0;0;48;2;248;248;248m],\u001b[0m\u001b[48;2;248;248;248m                                                                                                         \u001b[0m │\n",
       "│ \u001b[38;2;187;187;187;48;2;248;248;248m    \u001b[0m\u001b[1;38;2;0;128;0;48;2;248;248;248m\"dates\"\u001b[0m\u001b[38;2;0;0;0;48;2;248;248;248m:\u001b[0m\u001b[38;2;187;187;187;48;2;248;248;248m \u001b[0m\u001b[38;2;0;0;0;48;2;248;248;248m[\u001b[0m\u001b[48;2;248;248;248m                                                                                                 \u001b[0m │\n",
       "│ \u001b[38;2;187;187;187;48;2;248;248;248m      \u001b[0m\u001b[38;2;186;33;33;48;2;248;248;248m\"mid-August\"\u001b[0m\u001b[48;2;248;248;248m                                                                                             \u001b[0m │\n",
       "│ \u001b[38;2;187;187;187;48;2;248;248;248m    \u001b[0m\u001b[38;2;0;0;0;48;2;248;248;248m]\u001b[0m\u001b[48;2;248;248;248m                                                                                                          \u001b[0m │\n",
       "│ \u001b[38;2;187;187;187;48;2;248;248;248m  \u001b[0m\u001b[38;2;0;0;0;48;2;248;248;248m},\u001b[0m\u001b[48;2;248;248;248m                                                                                                           \u001b[0m │\n",
       "│ \u001b[38;2;187;187;187;48;2;248;248;248m  \u001b[0m\u001b[1;38;2;0;128;0;48;2;248;248;248m\"sentiment\"\u001b[0m\u001b[38;2;0;0;0;48;2;248;248;248m:\u001b[0m\u001b[38;2;187;187;187;48;2;248;248;248m \u001b[0m\u001b[38;2;186;33;33;48;2;248;248;248m\"Neutral\"\u001b[0m\u001b[38;2;0;0;0;48;2;248;248;248m,\u001b[0m\u001b[48;2;248;248;248m                                                                                      \u001b[0m │\n",
       "│ \u001b[38;2;187;187;187;48;2;248;248;248m  \u001b[0m\u001b[1;38;2;0;128;0;48;2;248;248;248m\"intention\"\u001b[0m\u001b[38;2;0;0;0;48;2;248;248;248m:\u001b[0m\u001b[38;2;187;187;187;48;2;248;248;248m \u001b[0m\u001b[38;2;0;0;0;48;2;248;248;248m{\u001b[0m\u001b[48;2;248;248;248m                                                                                               \u001b[0m │\n",
       "│ \u001b[38;2;187;187;187;48;2;248;248;248m    \u001b[0m\u001b[1;38;2;0;128;0;48;2;248;248;248m\"overt_intention\"\u001b[0m\u001b[38;2;0;0;0;48;2;248;248;248m:\u001b[0m\u001b[38;2;187;187;187;48;2;248;248;248m \u001b[0m\u001b[38;2;0;0;0;48;2;248;248;248m[\u001b[0m\u001b[48;2;248;248;248m                                                                                       \u001b[0m │\n",
       "│ \u001b[38;2;187;187;187;48;2;248;248;248m      \u001b[0m\u001b[38;2;186;33;33;48;2;248;248;248m\"to communicate financial trends and changes in the company\"\u001b[0m\u001b[38;2;0;0;0;48;2;248;248;248m,\u001b[0m\u001b[48;2;248;248;248m                                            \u001b[0m │\n",
       "│ \u001b[38;2;187;187;187;48;2;248;248;248m      \u001b[0m\u001b[38;2;186;33;33;48;2;248;248;248m\"to explain certain factors affecting growth\"\u001b[0m\u001b[38;2;0;0;0;48;2;248;248;248m,\u001b[0m\u001b[48;2;248;248;248m                                                           \u001b[0m │\n",
       "│ \u001b[38;2;187;187;187;48;2;248;248;248m      \u001b[0m\u001b[38;2;186;33;33;48;2;248;248;248m\"to provide updates on various issues such as transportation and cargo volume\"\u001b[0m\u001b[38;2;0;0;0;48;2;248;248;248m,\u001b[0m\u001b[48;2;248;248;248m                          \u001b[0m │\n",
       "│ \u001b[38;2;187;187;187;48;2;248;248;248m      \u001b[0m\u001b[38;2;186;33;33;48;2;248;248;248m\"to discuss future expectations for the world economy\"\u001b[0m\u001b[38;2;0;0;0;48;2;248;248;248m,\u001b[0m\u001b[48;2;248;248;248m                                                  \u001b[0m │\n",
       "│ \u001b[38;2;187;187;187;48;2;248;248;248m      \u001b[0m\u001b[38;2;186;33;33;48;2;248;248;248m\"to mention the company's efficiency focus and its impact\"\u001b[0m\u001b[38;2;0;0;0;48;2;248;248;248m,\u001b[0m\u001b[48;2;248;248;248m                                              \u001b[0m │\n",
       "│ \u001b[38;2;187;187;187;48;2;248;248;248m      \u001b[0m\u001b[38;2;186;33;33;48;2;248;248;248m\"to reiterate guidance and share expectations about future performance\"\u001b[0m\u001b[48;2;248;248;248m                                  \u001b[0m │\n",
       "│ \u001b[38;2;187;187;187;48;2;248;248;248m    \u001b[0m\u001b[38;2;0;0;0;48;2;248;248;248m],\u001b[0m\u001b[48;2;248;248;248m                                                                                                         \u001b[0m │\n",
       "│ \u001b[38;2;187;187;187;48;2;248;248;248m    \u001b[0m\u001b[1;38;2;0;128;0;48;2;248;248;248m\"covert_intention\"\u001b[0m\u001b[38;2;0;0;0;48;2;248;248;248m:\u001b[0m\u001b[38;2;187;187;187;48;2;248;248;248m \u001b[0m\u001b[38;2;0;0;0;48;2;248;248;248m[\u001b[0m\u001b[48;2;248;248;248m                                                                                      \u001b[0m │\n",
       "│ \u001b[38;2;187;187;187;48;2;248;248;248m      \u001b[0m\u001b[38;2;186;33;33;48;2;248;248;248m\"to reassure investors or stakeholders about the company's growth and financial stability despite global \u001b[0m │\n",
       "│ \u001b[38;2;187;187;187;48;2;248;248;248m      \u001b[0m\u001b[38;2;186;33;33;48;2;248;248;248m\"to subtly address concerns by providing specific data and explanations about the company's strategies an\u001b[0m │\n",
       "│ \u001b[38;2;187;187;187;48;2;248;248;248m      \u001b[0m\u001b[38;2;186;33;33;48;2;248;248;248m\"to promote the company's plans and progress in a positive light, highlighting successes such as the inte\u001b[0m │\n",
       "│ \u001b[38;2;187;187;187;48;2;248;248;248m    \u001b[0m\u001b[38;2;0;0;0;48;2;248;248;248m]\u001b[0m\u001b[48;2;248;248;248m                                                                                                          \u001b[0m │\n",
       "│ \u001b[38;2;187;187;187;48;2;248;248;248m  \u001b[0m\u001b[38;2;0;0;0;48;2;248;248;248m}\u001b[0m\u001b[48;2;248;248;248m                                                                                                            \u001b[0m │\n",
       "│ \u001b[38;2;0;0;0;48;2;248;248;248m}\u001b[0m\u001b[48;2;248;248;248m                                                                                                              \u001b[0m │\n",
       "╰─────────────────────────────────────────────────────────────────────────────────────────────────────────────────╯\n"
      ]
     },
     "metadata": {},
     "output_type": "display_data"
    }
   ],
   "source": [
    "from rich.console import Console\n",
    "from rich.panel import Panel\n",
    "from rich.syntax import Syntax\n",
    "import random\n",
    "import json\n",
    "\n",
    "\n",
    "rand_idx = random.choice(range(len(generated_data)))\n",
    "# Your data\n",
    "data = json.loads(generated_data[rand_idx][\"json_output\"])\n",
    "\n",
    "# Convert to JSON string with indentation for pretty printing\n",
    "json_str = json.dumps(data, indent=2)\n",
    "\n",
    "# Create syntax highlighted JSON\n",
    "syntax = Syntax(json_str, \"json\", theme=\"github\", line_numbers=False)\n",
    "\n",
    "# Display it inside a panel\n",
    "console = Console()\n",
    "console.print(Panel(syntax, title=\"📊 Extracted Summary\", expand=True))"
   ]
  },
  {
   "cell_type": "code",
   "execution_count": 23,
   "metadata": {},
   "outputs": [
    {
     "name": "stdout",
     "output_type": "stream",
     "text": [
      "{'summary': \"The company reported a slight increase in container throughput, primarily driven by growth in Far East volumes, which offset declines in road-bound transportation. Despite positive expectations for global economic growth, economic institutes are incorporating burdening factors into their models due to growing tensions in global trade. The integration of Polish rail activities into the Metrans Group and the elimination of unprofitable routes have contributed to improved efficiency. Management reiterated guidance, citing a strong focus on efficiency and a positive development in certain regions, such as Scandinavia and the Baltic area. The company's strategic priorities and cost optimization initiatives are expected to support future growth and margin performance.\", 'keywords': ['Metrans Group', 'container throughput', 'Far East volumes', 'rail transportation', 'efficiency focus', 'global trade tensions', 'Scandinavia', 'Baltic region', 'guidance', 'margin pressure'], 'named_entities': {'organizations': ['Metrans Group'], 'people': None, 'locations': ['Hamburg', 'Far East', 'Scandinavia', 'Baltic'], 'dates': ['mid-August']}, 'sentiment': 'Neutral', 'intention': {'overt_intention': ['to communicate financial trends and changes in the company', 'to explain certain factors affecting growth', 'to provide updates on various issues such as transportation and cargo volume', 'to discuss future expectations for the world economy', \"to mention the company's efficiency focus and its impact\", 'to reiterate guidance and share expectations about future performance'], 'covert_intention': [\"to reassure investors or stakeholders about the company's growth and financial stability despite global trade tensions\", \"to subtly address concerns by providing specific data and explanations about the company's strategies and adaptations\", \"to promote the company's plans and progress in a positive light, highlighting successes such as the integration of Polish rail activities and the efficiency focus\"]}}\n"
     ]
    }
   ],
   "source": [
    "print(data)"
   ]
  },
  {
   "cell_type": "markdown",
   "metadata": {},
   "source": [
    "## ✅ Conclusion\n",
    "\n",
    "In this section, we demonstrated how to construct an end-to-end pipeline that transforms unstructured PDF transcripts into structured JSON insights using modular building blocks. By parsing the document, prompting an LLM to extract specific features, and formatting the results, we’ve created a scalable workflow for financial document analysis—or any use case involving long-form text.\n",
    "\n",
    "## 📝 Homework: Extend the Pipeline\n",
    "\n",
    "Your task is to add a new block that extracts a different kind of structured insight from the conversation context.\n",
    "\n",
    "Some examples include:\n",
    "* 🧩 Risk factors mentioned in the call\n",
    "* 📊 Numerical metrics (e.g., revenue, margin, headcount)\n",
    "* 📌 Action items or decisions discussed\n",
    "\n",
    "Once you’ve done that, you’ll have taken the first step toward custom skill authoring, opening the door to richer document understanding tailored to your own domain needs. \n",
    "\n",
    "\n",
    "\n"
   ]
  },
  {
   "cell_type": "markdown",
   "metadata": {},
   "source": [
    "Added an intention step."
   ]
  },
  {
   "cell_type": "markdown",
   "metadata": {},
   "source": []
  }
 ],
 "metadata": {
  "kernelspec": {
   "display_name": "sdg_demo",
   "language": "python",
   "name": "python3"
  },
  "language_info": {
   "codemirror_mode": {
    "name": "ipython",
    "version": 3
   },
   "file_extension": ".py",
   "mimetype": "text/x-python",
   "name": "python",
   "nbconvert_exporter": "python",
   "pygments_lexer": "ipython3",
   "version": "3.11.12"
  }
 },
 "nbformat": 4,
 "nbformat_minor": 2
}
